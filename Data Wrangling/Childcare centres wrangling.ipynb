{
 "cells": [
  {
   "cell_type": "code",
   "execution_count": 1,
   "metadata": {},
   "outputs": [],
   "source": [
    "# Basic Python Library\n",
    "import pandas as pd \n",
    "import re\n",
    "import string"
   ]
  },
  {
   "cell_type": "code",
   "execution_count": 2,
   "metadata": {},
   "outputs": [
    {
     "data": {
      "text/plain": [
       "(49, 29)"
      ]
     },
     "execution_count": 2,
     "metadata": {},
     "output_type": "execute_result"
    }
   ],
   "source": [
    "open_data_1 = pd.read_csv('final.csv', low_memory=False)\n",
    "open_data_1.shape"
   ]
  },
  {
   "cell_type": "code",
   "execution_count": 3,
   "metadata": {},
   "outputs": [
    {
     "data": {
      "text/html": [
       "<div>\n",
       "<style scoped>\n",
       "    .dataframe tbody tr th:only-of-type {\n",
       "        vertical-align: middle;\n",
       "    }\n",
       "\n",
       "    .dataframe tbody tr th {\n",
       "        vertical-align: top;\n",
       "    }\n",
       "\n",
       "    .dataframe thead th {\n",
       "        text-align: right;\n",
       "    }\n",
       "</style>\n",
       "<table border=\"1\" class=\"dataframe\">\n",
       "  <thead>\n",
       "    <tr style=\"text-align: right;\">\n",
       "      <th></th>\n",
       "      <th>centre_name</th>\n",
       "      <th>provide_name</th>\n",
       "      <th>centre_type</th>\n",
       "      <th>centre_address</th>\n",
       "      <th>suburb</th>\n",
       "      <th>state</th>\n",
       "      <th>postcode</th>\n",
       "      <th>phone</th>\n",
       "      <th>email</th>\n",
       "      <th>qa_rating_1</th>\n",
       "      <th>...</th>\n",
       "      <th>part_of_school</th>\n",
       "      <th>standalone</th>\n",
       "      <th>after_school</th>\n",
       "      <th>before_school</th>\n",
       "      <th>vacation_care</th>\n",
       "      <th>website</th>\n",
       "      <th>fees</th>\n",
       "      <th>activities</th>\n",
       "      <th>language</th>\n",
       "      <th>aim</th>\n",
       "    </tr>\n",
       "  </thead>\n",
       "  <tbody>\n",
       "    <tr>\n",
       "      <th>0</th>\n",
       "      <td>John Street Community Early Childhood Co-opera...</td>\n",
       "      <td>John Street Community Early Childhood Co-op Ltd</td>\n",
       "      <td>Centre-Based Care</td>\n",
       "      <td>23 John Street</td>\n",
       "      <td>FITZROY</td>\n",
       "      <td>VIC</td>\n",
       "      <td>3065</td>\n",
       "      <td>03 9419 6659</td>\n",
       "      <td>admin@johnst.com.au</td>\n",
       "      <td>Exceeding NQS</td>\n",
       "      <td>...</td>\n",
       "      <td>No</td>\n",
       "      <td>No</td>\n",
       "      <td>No</td>\n",
       "      <td>No</td>\n",
       "      <td>No</td>\n",
       "      <td>www.johnst.com.au/</td>\n",
       "      <td>140</td>\n",
       "      <td>Weekly Music and Movement session and speciali...</td>\n",
       "      <td>The educators at John Street are eager to lear...</td>\n",
       "      <td>We design our children’s programs to be comple...</td>\n",
       "    </tr>\n",
       "    <tr>\n",
       "      <th>1</th>\n",
       "      <td>East West Childcare</td>\n",
       "      <td>East West Childcare Association Inc</td>\n",
       "      <td>Centre-Based Care</td>\n",
       "      <td>138 George Street</td>\n",
       "      <td>FITZROY</td>\n",
       "      <td>VIC</td>\n",
       "      <td>3065</td>\n",
       "      <td>394191673</td>\n",
       "      <td>admin@eastwestck.org.au</td>\n",
       "      <td>Exceeding NQS</td>\n",
       "      <td>...</td>\n",
       "      <td>No</td>\n",
       "      <td>No</td>\n",
       "      <td>No</td>\n",
       "      <td>No</td>\n",
       "      <td>No</td>\n",
       "      <td>www.eastwestck.org.au/</td>\n",
       "      <td>139</td>\n",
       "      <td>The kindergarten program also enables us to fu...</td>\n",
       "      <td>NaN</td>\n",
       "      <td>We are a co-operative of parents and early chi...</td>\n",
       "    </tr>\n",
       "    <tr>\n",
       "      <th>2</th>\n",
       "      <td>Acacia Fitzroy Creche</td>\n",
       "      <td>Acacia Indo-chinese Community Support Associat...</td>\n",
       "      <td>Centre-Based Care</td>\n",
       "      <td>187 Napier Street</td>\n",
       "      <td>FITZROY</td>\n",
       "      <td>VIC</td>\n",
       "      <td>3065</td>\n",
       "      <td>394191142</td>\n",
       "      <td>afc@acacia.org.au</td>\n",
       "      <td>Meeting NQS</td>\n",
       "      <td>...</td>\n",
       "      <td>No</td>\n",
       "      <td>No</td>\n",
       "      <td>No</td>\n",
       "      <td>No</td>\n",
       "      <td>No</td>\n",
       "      <td>www.acacia.org.au/acacia-fitzroy-creche/</td>\n",
       "      <td>NaN</td>\n",
       "      <td>All programs provide innovating rich indoor/ou...</td>\n",
       "      <td>NaN</td>\n",
       "      <td>Our educational programs reflect the full appr...</td>\n",
       "    </tr>\n",
       "    <tr>\n",
       "      <th>3</th>\n",
       "      <td>Indra Preschool</td>\n",
       "      <td>Indra Preschool Association Inc</td>\n",
       "      <td>Centre-Based Care</td>\n",
       "      <td>38 Edinburgh Road</td>\n",
       "      <td>BLACKBURN SOUTH</td>\n",
       "      <td>VIC</td>\n",
       "      <td>3130</td>\n",
       "      <td>398773640</td>\n",
       "      <td>indra.kin@kindergarten.vic.gov.au</td>\n",
       "      <td>Exceeding NQS</td>\n",
       "      <td>...</td>\n",
       "      <td>No</td>\n",
       "      <td>Yes</td>\n",
       "      <td>No</td>\n",
       "      <td>No</td>\n",
       "      <td>No</td>\n",
       "      <td>indrapreschool.vic.edu.au/</td>\n",
       "      <td>2480 per year</td>\n",
       "      <td>Throughout the year we focus on assisting each...</td>\n",
       "      <td>NaN</td>\n",
       "      <td>We believe children are curious and we provid...</td>\n",
       "    </tr>\n",
       "    <tr>\n",
       "      <th>4</th>\n",
       "      <td>Starfish Early Learning Centre</td>\n",
       "      <td>Starfish ChildCare Pty Ltd T/as Starfish Early...</td>\n",
       "      <td>Centre-Based Care</td>\n",
       "      <td>168 Canterbury Road</td>\n",
       "      <td>BLACKBURN SOUTH</td>\n",
       "      <td>VIC</td>\n",
       "      <td>3130</td>\n",
       "      <td>398773930</td>\n",
       "      <td>info@starfishelc.com.au</td>\n",
       "      <td>Exceeding NQS</td>\n",
       "      <td>...</td>\n",
       "      <td>No</td>\n",
       "      <td>No</td>\n",
       "      <td>No</td>\n",
       "      <td>No</td>\n",
       "      <td>No</td>\n",
       "      <td>www.starfishelc.com.au/</td>\n",
       "      <td>NaN</td>\n",
       "      <td>We strive to provide a curriculum that provide...</td>\n",
       "      <td>NaN</td>\n",
       "      <td>We are committed to providing opportunities of...</td>\n",
       "    </tr>\n",
       "  </tbody>\n",
       "</table>\n",
       "<p>5 rows × 29 columns</p>\n",
       "</div>"
      ],
      "text/plain": [
       "                                         centre_name  \\\n",
       "0  John Street Community Early Childhood Co-opera...   \n",
       "1                                East West Childcare   \n",
       "2                              Acacia Fitzroy Creche   \n",
       "3                                    Indra Preschool   \n",
       "4                     Starfish Early Learning Centre   \n",
       "\n",
       "                                        provide_name        centre_type  \\\n",
       "0    John Street Community Early Childhood Co-op Ltd  Centre-Based Care   \n",
       "1                East West Childcare Association Inc  Centre-Based Care   \n",
       "2  Acacia Indo-chinese Community Support Associat...  Centre-Based Care   \n",
       "3                    Indra Preschool Association Inc  Centre-Based Care   \n",
       "4  Starfish ChildCare Pty Ltd T/as Starfish Early...  Centre-Based Care   \n",
       "\n",
       "        centre_address           suburb state  postcode         phone  \\\n",
       "0       23 John Street          FITZROY   VIC      3065  03 9419 6659   \n",
       "1    138 George Street          FITZROY   VIC      3065     394191673   \n",
       "2    187 Napier Street          FITZROY   VIC      3065     394191142   \n",
       "3    38 Edinburgh Road  BLACKBURN SOUTH   VIC      3130     398773640   \n",
       "4  168 Canterbury Road  BLACKBURN SOUTH   VIC      3130     398773930   \n",
       "\n",
       "                               email    qa_rating_1  \\\n",
       "0                admin@johnst.com.au  Exceeding NQS   \n",
       "1            admin@eastwestck.org.au  Exceeding NQS   \n",
       "2                  afc@acacia.org.au    Meeting NQS   \n",
       "3  indra.kin@kindergarten.vic.gov.au  Exceeding NQS   \n",
       "4            info@starfishelc.com.au  Exceeding NQS   \n",
       "\n",
       "                         ...                         part_of_school  \\\n",
       "0                        ...                                     No   \n",
       "1                        ...                                     No   \n",
       "2                        ...                                     No   \n",
       "3                        ...                                     No   \n",
       "4                        ...                                     No   \n",
       "\n",
       "  standalone after_school before_school vacation_care  \\\n",
       "0         No           No            No            No   \n",
       "1         No           No            No            No   \n",
       "2         No           No            No            No   \n",
       "3        Yes           No            No            No   \n",
       "4         No           No            No            No   \n",
       "\n",
       "                                    website           fees  \\\n",
       "0                        www.johnst.com.au/            140   \n",
       "1                    www.eastwestck.org.au/            139   \n",
       "2  www.acacia.org.au/acacia-fitzroy-creche/            NaN   \n",
       "3                indrapreschool.vic.edu.au/  2480 per year   \n",
       "4                   www.starfishelc.com.au/            NaN   \n",
       "\n",
       "                                          activities  \\\n",
       "0  Weekly Music and Movement session and speciali...   \n",
       "1  The kindergarten program also enables us to fu...   \n",
       "2  All programs provide innovating rich indoor/ou...   \n",
       "3  Throughout the year we focus on assisting each...   \n",
       "4  We strive to provide a curriculum that provide...   \n",
       "\n",
       "                                            language  \\\n",
       "0  The educators at John Street are eager to lear...   \n",
       "1                                                NaN   \n",
       "2                                                NaN   \n",
       "3                                                NaN   \n",
       "4                                                NaN   \n",
       "\n",
       "                                                 aim  \n",
       "0  We design our children’s programs to be comple...  \n",
       "1  We are a co-operative of parents and early chi...  \n",
       "2  Our educational programs reflect the full appr...  \n",
       "3   We believe children are curious and we provid...  \n",
       "4  We are committed to providing opportunities of...  \n",
       "\n",
       "[5 rows x 29 columns]"
      ]
     },
     "execution_count": 3,
     "metadata": {},
     "output_type": "execute_result"
    }
   ],
   "source": [
    "open_data_1.head()"
   ]
  },
  {
   "cell_type": "code",
   "execution_count": 4,
   "metadata": {},
   "outputs": [],
   "source": [
    "# get a copy list of all the column names \n",
    "columnsNames = list(open_data_1.columns.values)"
   ]
  },
  {
   "cell_type": "code",
   "execution_count": 5,
   "metadata": {},
   "outputs": [
    {
     "data": {
      "text/plain": [
       "['centre_name',\n",
       " 'provide_name',\n",
       " 'centre_type',\n",
       " 'centre_address',\n",
       " 'suburb',\n",
       " 'state',\n",
       " 'postcode',\n",
       " 'phone',\n",
       " 'email',\n",
       " 'qa_rating_1',\n",
       " 'qa_rating_2',\n",
       " 'qa_rating_3',\n",
       " 'qa_rating_4',\n",
       " 'qa_rating_5',\n",
       " 'qa_rating_6',\n",
       " 'qa_rating_7',\n",
       " 'overall_rating',\n",
       " 'rating_issued_on',\n",
       " 'long_day_care',\n",
       " 'part_of_school',\n",
       " 'standalone',\n",
       " 'after_school',\n",
       " 'before_school',\n",
       " 'vacation_care',\n",
       " 'website',\n",
       " 'fees',\n",
       " 'activities',\n",
       " 'language',\n",
       " 'aim']"
      ]
     },
     "execution_count": 5,
     "metadata": {},
     "output_type": "execute_result"
    }
   ],
   "source": [
    "columnsNames"
   ]
  },
  {
   "cell_type": "code",
   "execution_count": 6,
   "metadata": {},
   "outputs": [],
   "source": [
    "# from \"A\" to \"a\" using rename() function \n",
    "open_data_1 = open_data_1.rename(columns = {\"qa_rating_1\":\"Educational program and practice\",\n",
    "                         \"qa_rating_2\":\"Children’s health and safety\",\n",
    "                         \"qa_rating_3\":\"Physical environment\",\n",
    "                         \"qa_rating_4\":\"Staffing arrangements\",\n",
    "                         \"qa_rating_5\":\"Relationships with children\",\n",
    "                         \"qa_rating_6\":\"Collaborative partnerships with families and communities\",\n",
    "                         \"qa_rating_7\":\"Governance and leadership\"})"
   ]
  },
  {
   "cell_type": "code",
   "execution_count": 7,
   "metadata": {},
   "outputs": [
    {
     "data": {
      "text/plain": [
       "['centre_name',\n",
       " 'provide_name',\n",
       " 'centre_type',\n",
       " 'centre_address',\n",
       " 'suburb',\n",
       " 'state',\n",
       " 'postcode',\n",
       " 'phone',\n",
       " 'email',\n",
       " 'Educational program and practice',\n",
       " 'Children’s health and safety',\n",
       " 'Physical environment',\n",
       " 'Staffing arrangements',\n",
       " 'Relationships with children',\n",
       " 'Collaborative partnerships with families and communities',\n",
       " 'Governance and leadership',\n",
       " 'overall_rating',\n",
       " 'rating_issued_on',\n",
       " 'long_day_care',\n",
       " 'part_of_school',\n",
       " 'standalone',\n",
       " 'after_school',\n",
       " 'before_school',\n",
       " 'vacation_care',\n",
       " 'website',\n",
       " 'fees',\n",
       " 'activities',\n",
       " 'language',\n",
       " 'aim']"
      ]
     },
     "execution_count": 7,
     "metadata": {},
     "output_type": "execute_result"
    }
   ],
   "source": [
    "columnsNames = list(open_data_1.columns.values)\n",
    "columnsNames"
   ]
  },
  {
   "cell_type": "code",
   "execution_count": 9,
   "metadata": {},
   "outputs": [
    {
     "data": {
      "text/plain": [
       "ServiceName                                                  0\n",
       "ProviderLegalName                                            0\n",
       "ServiceType                                                  0\n",
       "ServiceAddress                                               0\n",
       "Suburb                                                       0\n",
       "State                                                        0\n",
       "Postcode                                                     0\n",
       "Phone                                                        0\n",
       "Email Address                                                0\n",
       "Educational program and practice                             2\n",
       "Children’s health and safety                                 2\n",
       "Physical environment                                         2\n",
       "Staffing arrangements                                        2\n",
       "Relationships with children                                  2\n",
       "Collaborative partnerships with families and communities     2\n",
       "Governance and leadership                                    2\n",
       "OverallRating                                                2\n",
       "RatingsIssued                                                2\n",
       "Long Day Care                                                0\n",
       "Preschool/Kindergarten - Part of a School                    0\n",
       "Preschool/Kindergarten - Stand alone                         0\n",
       "Outside school Hours Care - After School                     0\n",
       "Outside school Hours Care - Before School                    0\n",
       "Outside school Hours Care - Vacation Care                    0\n",
       "url                                                          1\n",
       "Fees                                                        20\n",
       "Activites                                                    1\n",
       "Language                                                    20\n",
       "AIM                                                          1\n",
       "dtype: int64"
      ]
     },
     "execution_count": 9,
     "metadata": {},
     "output_type": "execute_result"
    }
   ],
   "source": [
    "open_data_1.isna().sum() "
   ]
  },
  {
   "cell_type": "code",
   "execution_count": 8,
   "metadata": {},
   "outputs": [
    {
     "name": "stdout",
     "output_type": "stream",
     "text": [
      "          phone Educational program and practice Children’s health and safety  \\\n",
      "1     394191673                    Exceeding NQS                Exceeding NQS   \n",
      "2     394191142                      Meeting NQS                  Meeting NQS   \n",
      "3     398773640                    Exceeding NQS                Exceeding NQS   \n",
      "4     398773930                    Exceeding NQS                  Meeting NQS   \n",
      "5  03 9723 0588                      Meeting NQS                  Meeting NQS   \n",
      "\n",
      "  Physical environment Staffing arrangements Relationships with children  \\\n",
      "1        Exceeding NQS         Exceeding NQS               Exceeding NQS   \n",
      "2          Meeting NQS           Meeting NQS                 Meeting NQS   \n",
      "3        Exceeding NQS         Exceeding NQS               Exceeding NQS   \n",
      "4          Meeting NQS         Exceeding NQS               Exceeding NQS   \n",
      "5          Meeting NQS           Meeting NQS                 Meeting NQS   \n",
      "\n",
      "  Collaborative partnerships with families and communities  \\\n",
      "1                                      Exceeding NQS         \n",
      "2                                      Exceeding NQS         \n",
      "3                                      Exceeding NQS         \n",
      "4                                      Exceeding NQS         \n",
      "5                                        Meeting NQS         \n",
      "\n",
      "  Governance and leadership overall_rating rating_issued_on  \\\n",
      "1             Exceeding NQS  Exceeding NQS       12/17/2020   \n",
      "2               Meeting NQS    Meeting NQS        1/17/2020   \n",
      "3             Exceeding NQS  Exceeding NQS        5/15/2020   \n",
      "4             Exceeding NQS  Exceeding NQS        3/20/2020   \n",
      "5               Meeting NQS    Meeting NQS        4/18/2020   \n",
      "\n",
      "                                    website           fees  \\\n",
      "1                    www.eastwestck.org.au/            139   \n",
      "2  www.acacia.org.au/acacia-fitzroy-creche/            NaN   \n",
      "3                indrapreschool.vic.edu.au/  2480 per year   \n",
      "4                   www.starfishelc.com.au/            NaN   \n",
      "5                   www.bhchildcare.com.au/            113   \n",
      "\n",
      "                                          activities language  \\\n",
      "1  The kindergarten program also enables us to fu...      NaN   \n",
      "2  All programs provide innovating rich indoor/ou...      NaN   \n",
      "3  Throughout the year we focus on assisting each...      NaN   \n",
      "4  We strive to provide a curriculum that provide...      NaN   \n",
      "5  Facilitate their involvement in small group, w...      NaN   \n",
      "\n",
      "                                                 aim  \n",
      "1  We are a co-operative of parents and early chi...  \n",
      "2  Our educational programs reflect the full appr...  \n",
      "3   We believe children are curious and we provid...  \n",
      "4  We are committed to providing opportunities of...  \n",
      "5  Through our curriculum, we aim to provide a fr...  \n"
     ]
    }
   ],
   "source": [
    "null_columns=open_data_1.columns[open_data_1.isnull().any()]\n",
    "print(open_data_1[open_data_1.isnull().any(axis=1)][null_columns].head())"
   ]
  },
  {
   "cell_type": "code",
   "execution_count": 9,
   "metadata": {},
   "outputs": [
    {
     "name": "stdout",
     "output_type": "stream",
     "text": [
      "Empty DataFrame\n",
      "Columns: [centre_name, provide_name, centre_type, centre_address, suburb, state, postcode, phone, email, Educational program and practice, Children’s health and safety, Physical environment, Staffing arrangements, Relationships with children, Collaborative partnerships with families and communities, Governance and leadership, overall_rating, rating_issued_on, long_day_care, part_of_school, standalone, after_school, before_school, vacation_care, website, fees, activities, language, aim]\n",
      "Index: []\n",
      "\n",
      "[0 rows x 29 columns]\n"
     ]
    }
   ],
   "source": [
    "# Find a duplicate rows\n",
    "duplicateDFRow = open_data_1[open_data_1.duplicated()]\n",
    "print(duplicateDFRow)"
   ]
  },
  {
   "cell_type": "code",
   "execution_count": 10,
   "metadata": {},
   "outputs": [
    {
     "ename": "AttributeError",
     "evalue": "'DataFrame' object has no attribute 'ProviderLegalName'",
     "output_type": "error",
     "traceback": [
      "\u001b[1;31m---------------------------------------------------------------------------\u001b[0m",
      "\u001b[1;31mAttributeError\u001b[0m                            Traceback (most recent call last)",
      "\u001b[1;32m<ipython-input-10-236614a3083b>\u001b[0m in \u001b[0;36m<module>\u001b[1;34m\u001b[0m\n\u001b[1;32m----> 1\u001b[1;33m \u001b[0mopen_data_1\u001b[0m\u001b[1;33m.\u001b[0m\u001b[0mProviderLegalName\u001b[0m\u001b[1;33m.\u001b[0m\u001b[0mvalue_counts\u001b[0m\u001b[1;33m(\u001b[0m\u001b[1;33m)\u001b[0m\u001b[1;33m\u001b[0m\u001b[1;33m\u001b[0m\u001b[0m\n\u001b[0m",
      "\u001b[1;32m~\\Anaconda3\\lib\\site-packages\\pandas\\core\\generic.py\u001b[0m in \u001b[0;36m__getattr__\u001b[1;34m(self, name)\u001b[0m\n\u001b[0;32m   4374\u001b[0m             \u001b[1;32mif\u001b[0m \u001b[0mself\u001b[0m\u001b[1;33m.\u001b[0m\u001b[0m_info_axis\u001b[0m\u001b[1;33m.\u001b[0m\u001b[0m_can_hold_identifiers_and_holds_name\u001b[0m\u001b[1;33m(\u001b[0m\u001b[0mname\u001b[0m\u001b[1;33m)\u001b[0m\u001b[1;33m:\u001b[0m\u001b[1;33m\u001b[0m\u001b[1;33m\u001b[0m\u001b[0m\n\u001b[0;32m   4375\u001b[0m                 \u001b[1;32mreturn\u001b[0m \u001b[0mself\u001b[0m\u001b[1;33m[\u001b[0m\u001b[0mname\u001b[0m\u001b[1;33m]\u001b[0m\u001b[1;33m\u001b[0m\u001b[1;33m\u001b[0m\u001b[0m\n\u001b[1;32m-> 4376\u001b[1;33m             \u001b[1;32mreturn\u001b[0m \u001b[0mobject\u001b[0m\u001b[1;33m.\u001b[0m\u001b[0m__getattribute__\u001b[0m\u001b[1;33m(\u001b[0m\u001b[0mself\u001b[0m\u001b[1;33m,\u001b[0m \u001b[0mname\u001b[0m\u001b[1;33m)\u001b[0m\u001b[1;33m\u001b[0m\u001b[1;33m\u001b[0m\u001b[0m\n\u001b[0m\u001b[0;32m   4377\u001b[0m \u001b[1;33m\u001b[0m\u001b[0m\n\u001b[0;32m   4378\u001b[0m     \u001b[1;32mdef\u001b[0m \u001b[0m__setattr__\u001b[0m\u001b[1;33m(\u001b[0m\u001b[0mself\u001b[0m\u001b[1;33m,\u001b[0m \u001b[0mname\u001b[0m\u001b[1;33m,\u001b[0m \u001b[0mvalue\u001b[0m\u001b[1;33m)\u001b[0m\u001b[1;33m:\u001b[0m\u001b[1;33m\u001b[0m\u001b[1;33m\u001b[0m\u001b[0m\n",
      "\u001b[1;31mAttributeError\u001b[0m: 'DataFrame' object has no attribute 'ProviderLegalName'"
     ]
    }
   ],
   "source": [
    "open_data_1.ProviderLegalName.value_counts()"
   ]
  },
  {
   "cell_type": "code",
   "execution_count": 22,
   "metadata": {},
   "outputs": [
    {
     "data": {
      "text/plain": [
       "Clarinda Primary School Out of School Hours Care      1\n",
       "East West Childcare                                   1\n",
       "Your Place Early Learning Centre                      1\n",
       "Aurora School Community Kindergarten                  1\n",
       "Morning Star Bilingual Early Learning Centre          1\n",
       "TeamKids - Orchard Grove Primary                      1\n",
       "Holbury Children's Centre                             1\n",
       "Bright Horizons Australia Childcare Croydon North     1\n",
       "John Street Community Early Childhood Co-operative    1\n",
       "Young Einsteins ELC Clayton                           1\n",
       "Westall Kindergarten                                  1\n",
       "Good Shepherd Lutheran OSHClub                        1\n",
       "Bilingual Montessori Early Learning                   1\n",
       "Starfish Early Learning Centre                        1\n",
       "DISCOVERY TREE EARLY LEARNING CENTRE                  1\n",
       "Clayton South Kindergarten                            1\n",
       "Noriter Bilingual Early Learning                      1\n",
       "Indra Preschool                                       1\n",
       "Big Childcare - Fitzroy PS OSHC                       1\n",
       "Acacia Fitzroy Creche                                 1\n",
       "Fitzroy Early Learning Centre                         1\n",
       "Name: ServiceName, dtype: int64"
      ]
     },
     "execution_count": 22,
     "metadata": {},
     "output_type": "execute_result"
    }
   ],
   "source": [
    "open_data_1.ServiceName.value_counts()"
   ]
  },
  {
   "cell_type": "code",
   "execution_count": 11,
   "metadata": {},
   "outputs": [],
   "source": [
    "open_data_1.to_csv('childcare_final.csv', index=False,header=True)"
   ]
  },
  {
   "cell_type": "code",
   "execution_count": null,
   "metadata": {},
   "outputs": [],
   "source": []
  }
 ],
 "metadata": {
  "kernelspec": {
   "display_name": "Python 3",
   "language": "python",
   "name": "python3"
  },
  "language_info": {
   "codemirror_mode": {
    "name": "ipython",
    "version": 3
   },
   "file_extension": ".py",
   "mimetype": "text/x-python",
   "name": "python",
   "nbconvert_exporter": "python",
   "pygments_lexer": "ipython3",
   "version": "3.7.1"
  }
 },
 "nbformat": 4,
 "nbformat_minor": 2
}
